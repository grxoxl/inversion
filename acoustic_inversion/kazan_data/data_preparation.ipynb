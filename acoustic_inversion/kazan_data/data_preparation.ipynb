{
 "cells": [
  {
   "cell_type": "code",
   "execution_count": 363,
   "metadata": {},
   "outputs": [],
   "source": [
    "import os\n",
    "import re\n",
    "import numpy as np\n",
    "import matplotlib.pyplot as plt\n",
    "from typing import Tuple, Union, List\n",
    "from scipy.interpolate import Rbf, interp1d\n",
    "from scipy.signal import decimate, resample_poly, resample"
   ]
  },
  {
   "cell_type": "markdown",
   "metadata": {},
   "source": [
    "# Data loading"
   ]
  },
  {
   "cell_type": "code",
   "execution_count": 364,
   "metadata": {},
   "outputs": [],
   "source": [
    "\n",
    "def _read_txt(file_path: str) -> np.ndarray:\n",
    "    \"\"\"\n",
    "    Reads data from a text file and returns it as a numpy array.\n",
    "    \"\"\"\n",
    "    with open(file_path, \"r\") as txt:\n",
    "        next(txt)  # Skip header\n",
    "        data = np.asanyarray([np.single(line.strip().split(\"\\t\")) for line in txt])\n",
    "\n",
    "    return data\n",
    "\n",
    "def read_well_txt(folder_path: str) -> Tuple[List[np.ndarray], List[np.ndarray]]:\n",
    "    \"\"\"\n",
    "    Reads well data from text files in the given folder path.\n",
    "    Returns a tuple containing lists of DTP and RHOB data arrays.\n",
    "    \"\"\"\n",
    "\n",
    "    data_dict = {'dtp': [], 'dtp_labels': [], 'rhob': [], 'rhob_labels': []}\n",
    "\n",
    "    for filename in os.listdir(folder_path):\n",
    "        file_path = os.path.join(folder_path, filename)\n",
    "        \n",
    "        if os.path.isfile(file_path):\n",
    "            file_keyword = next((key for key in data_dict.keys() if key in filename.lower()), None)\n",
    "            data_dict[file_keyword].append(_read_txt(file_path))\n",
    "            data_dict[file_keyword + \"_labels\"].append(re.findall(r'\\d+', filename))\n",
    "    if data_dict['dtp_labels'] == data_dict['rhob_labels']:\n",
    "        print(\"--Uploading has passed succesfully--\")\n",
    "    else: \n",
    "        raise ImportError(\"Not equal number of wells for each log\")\n",
    "\n",
    "    return data_dict['dtp'], data_dict['rhob'], data_dict['dtp_labels'], data_dict['rhob_labels']\n"
   ]
  },
  {
   "cell_type": "code",
   "execution_count": 365,
   "metadata": {},
   "outputs": [
    {
     "name": "stdout",
     "output_type": "stream",
     "text": [
      "--Uploading has passed succesfully--\n"
     ]
    }
   ],
   "source": [
    "folder = r\"C:\\Users\\Владислав\\Downloads\\LOG _unique\"\n",
    "\n",
    "dtp, rhob, dtp_labels, rhob_labels = read_well_txt(folder)\n"
   ]
  },
  {
   "cell_type": "code",
   "execution_count": 366,
   "metadata": {},
   "outputs": [],
   "source": [
    "def r2even(f):\n",
    "    if (np.floor(f)%2 == 0): \n",
    "        return np.floor(f)\n",
    "    else: \n",
    "        return np.floor(f)+1\n",
    "    \n",
    "def interp(x: np.ndarray, y: np.ndarray, step: float, kind=\"cubic\", fill_value=\"extrapolate\"):\n",
    "    \"\"\"\n",
    "    func takes 2 numpy.arrays (x,y by default) and desired step for the first array\n",
    "    than, it interpolates values y for new x:\n",
    "\n",
    "    input:\n",
    "    x -> np.array([1, 2, 3, 4, 5, 6])\n",
    "    y -> np.array([10, 15, 20, 25, 30, 35])\n",
    "    step - > 1.5\n",
    "\n",
    "    output:\n",
    "    x_new -> np.array([1, 2.5, 4, 5.5])\n",
    "    y_new -> np.array([10, 17.5, 25, 32.5])\n",
    "\n",
    "    you can also adjust the inner parameters of the interplate.interp1d func (kind, fill_value)\n",
    "    which are \"cubic\" and \"extrapolate\" by default\n",
    "    \"\"\"\n",
    "    #exceptions\n",
    "    if not isinstance(x, np.ndarray) or not isinstance(y, np.ndarray):\n",
    "        raise TypeError(\"Input 'x' and 'y' must be NumPy arrays\")\n",
    "    if x.shape != y.shape:\n",
    "        raise ValueError(\"Input 'x' and 'y' must have the same shape\")\n",
    "\n",
    "    #functional block       \n",
    "    f = interp1d(x, y, kind=kind, fill_value=fill_value)\n",
    "    xnew = np.arange(r2even(x[0]), r2even(x[-1])+1, step)\n",
    "    ynew = f(xnew)\n",
    "    return xnew, ynew"
   ]
  },
  {
   "cell_type": "code",
   "execution_count": 368,
   "metadata": {},
   "outputs": [],
   "source": [
    "\"\"\"np.r_ is a short concatenation method\"\"\"\n",
    "dtp_decimated = [np.r_['r', interp(dtp[i][:, 2], dtp[i][:, 3], 2, kind = \"nearest\")].T for i in range(len(dtp))]\n",
    "rhob_decimated = [np.r_['r', interp(rhob[i][:, 2], rhob[i][:, 3], 2, kind = \"nearest\")].T for i in range(len(dtp))]"
   ]
  },
  {
   "cell_type": "code",
   "execution_count": 370,
   "metadata": {},
   "outputs": [],
   "source": [
    "for i in range(len(dtp)):\n",
    "    len_rhob = len(rhob_decimated[i])\n",
    "    len_dtp = len(dtp_decimated[i])\n",
    "\n",
    "    if (len_dtp > len_rhob):\n",
    "        dtp_decimated[i] = dtp_decimated[i][:len_rhob, :] \n",
    "    else:\n",
    "        rhob_decimated[i] = rhob_decimated[i][:len_dtp, :]\n",
    "\n"
   ]
  },
  {
   "cell_type": "code",
   "execution_count": 378,
   "metadata": {},
   "outputs": [
    {
     "data": {
      "text/plain": [
       "'\\nЗакончил на том, что сделал децимацию каротажек и продумал обрезку по самой короткой из двух\\nДальше нужно перевести медленность в скорость (ПРАВИЛЬНО!) и посчитать импеданс\\nПришить это все к глубинам \\n'"
      ]
     },
     "execution_count": 378,
     "metadata": {},
     "output_type": "execute_result"
    }
   ],
   "source": [
    "\"\"\"\n",
    "Закончил на том, что сделал децимацию каротажек и продумал обрезку по самой короткой из двух\n",
    "Дальше нужно перевести медленность в скорость (ПРАВИЛЬНО!) и посчитать импеданс\n",
    "Пришить это все к глубинам \n",
    "Расчитать inline/crossline для каждой скважины\n",
    "\"\"\" "
   ]
  },
  {
   "cell_type": "code",
   "execution_count": 373,
   "metadata": {},
   "outputs": [],
   "source": [
    "ai_decimated = [dtp_decimated[i][:, 1]*rhob_decimated[i][:, 1].T for i in range(len(dtp))]"
   ]
  },
  {
   "cell_type": "code",
   "execution_count": 374,
   "metadata": {},
   "outputs": [
    {
     "data": {
      "text/plain": [
       "[<matplotlib.lines.Line2D at 0x2406df9f290>]"
      ]
     },
     "execution_count": 374,
     "metadata": {},
     "output_type": "execute_result"
    },
    {
     "data": {
      "image/png": "[encoded data removed]",
      "text/plain": [
       "<Figure size 640x480 with 1 Axes>"
      ]
     },
     "metadata": {},
     "output_type": "display_data"
    }
   ],
   "source": [
    "w_num =  0\n",
    "\n",
    "# plt.plot(dtp[w_num][:, 2], dtp[w_num][:, 3])\n",
    "\n",
    "# plt.plot(dtp_decimated[w_num][:, 0], dtp_decimated[w_num][:, 1])\n",
    "\n",
    "plt.plot(dtp_decimated[w_num][:, 0], ai_decimated[w_num][:, 1])\n",
    "# plt.ylim([0, 3])"
   ]
  },
  {
   "cell_type": "code",
   "execution_count": null,
   "metadata": {},
   "outputs": [],
   "source": []
  }
 ],
 "metadata": {
  "kernelspec": {
   "display_name": "Python 3",
   "language": "python",
   "name": "python3"
  },
  "language_info": {
   "codemirror_mode": {
    "name": "ipython",
    "version": 3
   },
   "file_extension": ".py",
   "mimetype": "text/x-python",
   "name": "python",
   "nbconvert_exporter": "python",
   "pygments_lexer": "ipython3",
   "version": "3.11.1"
  }
 },
 "nbformat": 4,
 "nbformat_minor": 2
}
