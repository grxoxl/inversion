{
 "cells": [
  {
   "cell_type": "code",
   "execution_count": 1,
   "id": "959343ad",
   "metadata": {},
   "outputs": [],
   "source": [
    "import pyvista as pv\n",
    "import numpy as np"
   ]
  },
  {
   "cell_type": "code",
   "execution_count": 2,
   "id": "bd76ff6c",
   "metadata": {},
   "outputs": [],
   "source": [
    "# your_cube = np.zeros((100, 100, 100))\n",
    "\n",
    "your_cube = np.random.uniform(0, 100, (100, 100, 100))\n",
    "your_cube[:, :, :20] = 5\n",
    "your_cube[:, :, 20:70] = 10"
   ]
  },
  {
   "cell_type": "code",
   "execution_count": 4,
   "id": "24a9b00a",
   "metadata": {},
   "outputs": [
    {
     "name": "stderr",
     "output_type": "stream",
     "text": [
      "c:\\Users\\Владислав\\AppData\\Local\\Programs\\Python\\Python311\\Lib\\site-packages\\pyvista\\plotting\\renderer.py:1433: PyVistaDeprecationWarning: `xlabel` is deprecated. Use `xtitle` instead.\n",
      "  warnings.warn(\n",
      "c:\\Users\\Владислав\\AppData\\Local\\Programs\\Python\\Python311\\Lib\\site-packages\\pyvista\\plotting\\renderer.py:1439: PyVistaDeprecationWarning: `ylabel` is deprecated. Use `ytitle` instead.\n",
      "  warnings.warn(\n",
      "c:\\Users\\Владислав\\AppData\\Local\\Programs\\Python\\Python311\\Lib\\site-packages\\pyvista\\plotting\\renderer.py:1445: PyVistaDeprecationWarning: `zlabel` is deprecated. Use `ztitle` instead.\n",
      "  warnings.warn(\n"
     ]
    }
   ],
   "source": [
    "# Set global theme for the plotter\n",
    "pv.global_theme.background = 'white'\n",
    "pv.global_theme.font.color = 'black'\n",
    "pv.global_theme.font.size = 14\n",
    "pv.global_theme.font.family = 'courier'\n",
    "\n",
    "# Create a uniform grid for the data\n",
    "grid = pv.UniformGrid()\n",
    "\n",
    "# Set dimensions of the grid based on the shape of your_cube\n",
    "grid.dimensions = np.array(your_cube.shape)\n",
    "\n",
    "# Set the origin of the grid\n",
    "grid.origin = (0, 0, 0)\n",
    "\n",
    "# Set the spacing between grid points\n",
    "grid.spacing = (25, 25, 25)\n",
    "\n",
    "# Flatten your_cube and add it to the point data of the grid\n",
    "grid.point_data[\"LFM\"] = your_cube.flatten(order=\"F\")\n",
    "\n",
    "# Define scalar bar arguments for interactive colorbar\n",
    "sargs = dict(interactive=True, title=\"Impedance\", title_font_size=20)\n",
    "\n",
    "# Create a plotter object\n",
    "plotter = pv.Plotter(notebook=False)\n",
    "\n",
    "# Add the mesh (your_cube) to the plotter with specified colormap and color range\n",
    "plotter.add_mesh(your_cube, clim=[0, 100], cmap=\"seismic\", scalar_bar_args=sargs)\n",
    "\n",
    "# Add scalar bar widget to interactively adjust clims\n",
    "scalar_bar = plotter.add_scalar_bar(title=\"Impedance\", n_labels=5, interactive=True)\n",
    "\n",
    "# Show grid bounds with labels for each axis\n",
    "plotter.show_bounds(xlabel='Inlines', ylabel='Crosslines', zlabel=\"Discretes\")\n",
    "\n",
    "# Display the plot\n",
    "plotter.show()\n"
   ]
  },
  {
   "cell_type": "code",
   "execution_count": null,
   "id": "ab7205df",
   "metadata": {},
   "outputs": [],
   "source": [
    "args = []\n",
    "funct(*sargs)"
   ]
  }
 ],
 "metadata": {
  "kernelspec": {
   "display_name": "Python 3 (ipykernel)",
   "language": "python",
   "name": "python3"
  },
  "language_info": {
   "codemirror_mode": {
    "name": "ipython",
    "version": 3
   },
   "file_extension": ".py",
   "mimetype": "text/x-python",
   "name": "python",
   "nbconvert_exporter": "python",
   "pygments_lexer": "ipython3",
   "version": "3.11.1"
  }
 },
 "nbformat": 4,
 "nbformat_minor": 5
}
